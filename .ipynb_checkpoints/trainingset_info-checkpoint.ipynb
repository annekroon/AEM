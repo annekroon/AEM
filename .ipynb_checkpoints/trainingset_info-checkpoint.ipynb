{
 "cells": [
  {
   "cell_type": "code",
   "execution_count": 118,
   "metadata": {},
   "outputs": [],
   "source": [
    "import json\n",
    "import os\n",
    "import glob\n",
    "import pandas as pd"
   ]
  },
  {
   "cell_type": "code",
   "execution_count": 6,
   "metadata": {},
   "outputs": [],
   "source": [
    "path_to_jsonfiles = 'trainingset/'"
   ]
  },
  {
   "cell_type": "code",
   "execution_count": 120,
   "metadata": {},
   "outputs": [
    {
     "name": "stdout",
     "output_type": "stream",
     "text": [
      "The total number of articles is: \n",
      "\n",
      "7441914.0 \n",
      "\n",
      "The total number of articles aggregated by outlet: \n",
      "\n",
      "ad (print)                 871156.0\n",
      "ad (www)                   113671.0\n",
      "anp                       2048369.0\n",
      "bd (www)                    14781.0\n",
      "bndestem (www)              15262.0\n",
      "destentor (www)             14620.0\n",
      "ed (www)                    15754.0\n",
      "fd (print)                 452967.0\n",
      "frieschdagblad (www)          267.0\n",
      "gelderlander (www)          10553.0\n",
      "metro (print)              169362.0\n",
      "metro (www)                 98307.0\n",
      "nos                           730.0\n",
      "nos (www)                   62415.0\n",
      "nrc (print)                662233.0\n",
      "nrc (www)                   65885.0\n",
      "nu                         138084.0\n",
      "parool (www)                34647.0\n",
      "pzc (www)                   13312.0\n",
      "spits (www)                 41422.0\n",
      "telegraaf (print)          811746.0\n",
      "telegraaf (www)            307755.0\n",
      "trouw (print)              603098.0\n",
      "trouw (www)                 34089.0\n",
      "tubantia (www)              13779.0\n",
      "volkskrant (print)         697770.0\n",
      "volkskrant (www)           129502.0\n",
      "zwartewaterkrant (www)        378.0\n",
      "dtype: float64\n"
     ]
    }
   ],
   "source": [
    "alldicts = []\n",
    "for file in os.listdir(path_to_jsonfiles):\n",
    "    full_filename = \"{}{}\".format(path_to_jsonfiles, file)\n",
    "    with open(full_filename,'r') as fi:\n",
    "        mydict = json.load(fi)\n",
    "        alldicts.append(mydict)\n",
    "        \n",
    "alldicts = [dict(v, id=k) for x in alldicts for k, v in x.items()]\n",
    "\n",
    "df = pd.DataFrame(alldicts)\n",
    "df = df.transpose()\n",
    "df.columns = df.loc['id']\n",
    "df = df.drop('id')\n",
    "df_succes = df['succes']\n",
    "df_succes\n",
    "n_per_np = df_succes.sum(axis = 1, skipna = True) \n",
    "total_n = n_per_np.sum(axis = 0)\n",
    "\n",
    "print(\"The total number of articles is: \\n\\n{} \\n\\nThe total number of articles aggregated by outlet: \\n\\n{}\". format(total_n, n_per_np))"
   ]
  }
 ],
 "metadata": {
  "kernelspec": {
   "display_name": "Python 3",
   "language": "python",
   "name": "python3"
  },
  "language_info": {
   "codemirror_mode": {
    "name": "ipython",
    "version": 3
   },
   "file_extension": ".py",
   "mimetype": "text/x-python",
   "name": "python",
   "nbconvert_exporter": "python",
   "pygments_lexer": "ipython3",
   "version": "3.7.2"
  }
 },
 "nbformat": 4,
 "nbformat_minor": 2
}

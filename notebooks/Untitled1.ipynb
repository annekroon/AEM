{
 "cells": [
  {
   "cell_type": "code",
   "execution_count": 5,
   "metadata": {},
   "outputs": [],
   "source": [
    "from gensim.models import Word2Vec\n",
    "import pandas as pd"
   ]
  },
  {
   "cell_type": "code",
   "execution_count": 2,
   "metadata": {},
   "outputs": [],
   "source": [
    "path = '/Users/anne/repos/embedding_models/'"
   ]
  },
  {
   "cell_type": "code",
   "execution_count": 6,
   "metadata": {},
   "outputs": [],
   "source": [
    "model = Word2Vec.load(path + '/w2v_model_nr_7_window_10_size_300_negsample_15')"
   ]
  },
  {
   "cell_type": "code",
   "execution_count": 105,
   "metadata": {},
   "outputs": [],
   "source": [
    "import itertools\n",
    "\n",
    "competent = ['productief' , 'vaardig' , 'efficient' , 'capabel']\n",
    "incompetent = ['onproductief' , 'inefficient' , 'incapabel']\n",
    "\n",
    "#warm = ['warm', 'vriendelijk' , 'eerlijk' , 'betrouwbaar']\n",
    "#koud = ['koud', 'onaardig'  , 'oneerlijk', 'onbetrouwbaar']\n",
    "\n",
    "warm = ['tolerant', 'warm', 'goedaardig', 'oprecht' , 'betrouwbaar', 'eerlijk']\n",
    "koud = ['intolerant', 'koud' , 'kwaadaardig', 'oneerlijk', 'onbetrouwbaar', 'oneerlijk']\n",
    "\n",
    "oud = ['oud', 'oudere' , 'oude', 'senior']\n",
    "jong = ['jong', 'jongere', 'jonge', 'junior']"
   ]
  },
  {
   "cell_type": "code",
   "execution_count": 82,
   "metadata": {},
   "outputs": [],
   "source": [
    "competent_oud = list(itertools.product(oud,competent))\n",
    "competent_jong = list(itertools.product(jong,competent))\n",
    "incompetent_oud = list(itertools.product(oud,incompetent))\n",
    "incompetent_jong = list(itertools.product(jong,incompetent))\n",
    "\n",
    "\n",
    "warm_oud = list(itertools.product(oud, warm))\n",
    "warm_jong = list(itertools.product(jong, warm))\n",
    "koud_oud = list(itertools.product(oud, koud))\n",
    "koud_jong = list(itertools.product(jong, koud))\n"
   ]
  },
  {
   "cell_type": "code",
   "execution_count": 76,
   "metadata": {},
   "outputs": [
    {
     "name": "stderr",
     "output_type": "stream",
     "text": [
      "/Library/Frameworks/Python.framework/Versions/3.7/lib/python3.7/site-packages/ipykernel_launcher.py:1: DeprecationWarning: Call to deprecated `most_similar` (Method will be removed in 4.0.0, use self.wv.most_similar() instead).\n",
      "  \"\"\"Entry point for launching an IPython kernel.\n"
     ]
    },
    {
     "data": {
      "text/plain": [
       "[('onverdraagzaam', 0.8737674951553345),\n",
       " ('verdraagzaam', 0.7314802408218384),\n",
       " ('tolerant', 0.7310391664505005),\n",
       " ('xenofoob', 0.7144378423690796),\n",
       " ('haatdragend', 0.7096343040466309),\n",
       " ('achterlijk', 0.7008757591247559),\n",
       " ('vrouwonvriendelijk', 0.6942809820175171),\n",
       " ('antidemocratisch', 0.6927487850189209),\n",
       " ('ruimdenkend', 0.6633145213127136),\n",
       " ('islamofoob', 0.6578187942504883)]"
      ]
     },
     "execution_count": 76,
     "metadata": {},
     "output_type": "execute_result"
    }
   ],
   "source": [
    "model.most_similar('intolerant')\n"
   ]
  },
  {
   "cell_type": "code",
   "execution_count": 101,
   "metadata": {},
   "outputs": [],
   "source": [
    "def get_scores(combinations, model, target, attribute):\n",
    "    results = []\n",
    "    for pair in combinations:\n",
    "        try:\n",
    "            r = model.wv.similarity(pair[0],pair[1])\n",
    "            pair_1 = pair[0]\n",
    "            pair_2 = pair[1]\n",
    "        except KeyError:\n",
    "            r = 0\n",
    "        results.append({'pair': (pair[0],pair[1]),\n",
    "                    'word2vec_score': r, \n",
    "                     'target': target , \n",
    "                      'attribute' : attribute\n",
    "                       })\n",
    "    return results\n"
   ]
  },
  {
   "cell_type": "code",
   "execution_count": 106,
   "metadata": {},
   "outputs": [],
   "source": [
    "koud = get_scores(warm_oud, model, \"oud\", \"warm\") +  get_scores(warm_jong, model, \"jong\", \"warm\") + get_scores(koud_jong, model, \"jong\", \"koud\") + get_scores(koud_oud, model, \"oud\", \"koud\") "
   ]
  },
  {
   "cell_type": "code",
   "execution_count": 84,
   "metadata": {},
   "outputs": [],
   "source": [
    "com = get_scores(competent_oud, model, \"competent\") +  get_scores(competent_jong, model, \"competent\") + get_scores(incompetent_jong, model, \"incompetent\") + get_scores(incompetent_oud, model, \"incompetent\") "
   ]
  },
  {
   "cell_type": "code",
   "execution_count": 99,
   "metadata": {},
   "outputs": [
    {
     "data": {
      "text/html": [
       "<div>\n",
       "<style scoped>\n",
       "    .dataframe tbody tr th:only-of-type {\n",
       "        vertical-align: middle;\n",
       "    }\n",
       "\n",
       "    .dataframe tbody tr th {\n",
       "        vertical-align: top;\n",
       "    }\n",
       "\n",
       "    .dataframe thead th {\n",
       "        text-align: right;\n",
       "    }\n",
       "</style>\n",
       "<table border=\"1\" class=\"dataframe\">\n",
       "  <thead>\n",
       "    <tr style=\"text-align: right;\">\n",
       "      <th></th>\n",
       "      <th></th>\n",
       "      <th>word2vec_score</th>\n",
       "    </tr>\n",
       "    <tr>\n",
       "      <th>attribute</th>\n",
       "      <th>target</th>\n",
       "      <th></th>\n",
       "    </tr>\n",
       "  </thead>\n",
       "  <tbody>\n",
       "    <tr>\n",
       "      <th rowspan=\"2\" valign=\"top\">competent</th>\n",
       "      <th>jon</th>\n",
       "      <td>0.077745</td>\n",
       "    </tr>\n",
       "    <tr>\n",
       "      <th>oud</th>\n",
       "      <td>0.046521</td>\n",
       "    </tr>\n",
       "    <tr>\n",
       "      <th rowspan=\"2\" valign=\"top\">incompetent</th>\n",
       "      <th>jon</th>\n",
       "      <td>0.001991</td>\n",
       "    </tr>\n",
       "    <tr>\n",
       "      <th>oud</th>\n",
       "      <td>0.044524</td>\n",
       "    </tr>\n",
       "  </tbody>\n",
       "</table>\n",
       "</div>"
      ],
      "text/plain": [
       "                    word2vec_score\n",
       "attribute   target                \n",
       "competent   jon           0.077745\n",
       "            oud           0.046521\n",
       "incompetent jon           0.001991\n",
       "            oud           0.044524"
      ]
     },
     "execution_count": 99,
     "metadata": {},
     "output_type": "execute_result"
    }
   ],
   "source": [
    "result = pd.DataFrame.from_dict(com_oud)\n",
    "result.groupby(['attribute', 'target']).agg(\"mean\")"
   ]
  },
  {
   "cell_type": "code",
   "execution_count": 107,
   "metadata": {},
   "outputs": [
    {
     "data": {
      "text/html": [
       "<div>\n",
       "<style scoped>\n",
       "    .dataframe tbody tr th:only-of-type {\n",
       "        vertical-align: middle;\n",
       "    }\n",
       "\n",
       "    .dataframe tbody tr th {\n",
       "        vertical-align: top;\n",
       "    }\n",
       "\n",
       "    .dataframe thead th {\n",
       "        text-align: right;\n",
       "    }\n",
       "</style>\n",
       "<table border=\"1\" class=\"dataframe\">\n",
       "  <thead>\n",
       "    <tr style=\"text-align: right;\">\n",
       "      <th></th>\n",
       "      <th></th>\n",
       "      <th>word2vec_score</th>\n",
       "    </tr>\n",
       "    <tr>\n",
       "      <th>attribute</th>\n",
       "      <th>target</th>\n",
       "      <th></th>\n",
       "    </tr>\n",
       "  </thead>\n",
       "  <tbody>\n",
       "    <tr>\n",
       "      <th rowspan=\"2\" valign=\"top\">koud</th>\n",
       "      <th>jong</th>\n",
       "      <td>-0.016871</td>\n",
       "    </tr>\n",
       "    <tr>\n",
       "      <th>oud</th>\n",
       "      <td>0.002725</td>\n",
       "    </tr>\n",
       "    <tr>\n",
       "      <th rowspan=\"2\" valign=\"top\">warm</th>\n",
       "      <th>jong</th>\n",
       "      <td>0.017033</td>\n",
       "    </tr>\n",
       "    <tr>\n",
       "      <th>oud</th>\n",
       "      <td>0.018074</td>\n",
       "    </tr>\n",
       "  </tbody>\n",
       "</table>\n",
       "</div>"
      ],
      "text/plain": [
       "                  word2vec_score\n",
       "attribute target                \n",
       "koud      jong         -0.016871\n",
       "          oud           0.002725\n",
       "warm      jong          0.017033\n",
       "          oud           0.018074"
      ]
     },
     "execution_count": 107,
     "metadata": {},
     "output_type": "execute_result"
    }
   ],
   "source": [
    "result = pd.DataFrame.from_dict(koud)\n",
    "result.groupby(['attribute', 'target']).agg(\"mean\")\n"
   ]
  }
 ],
 "metadata": {
  "kernelspec": {
   "display_name": "Python 3",
   "language": "python",
   "name": "python3"
  },
  "language_info": {
   "codemirror_mode": {
    "name": "ipython",
    "version": 3
   },
   "file_extension": ".py",
   "mimetype": "text/x-python",
   "name": "python",
   "nbconvert_exporter": "python",
   "pygments_lexer": "ipython3",
   "version": "3.7.2"
  }
 },
 "nbformat": 4,
 "nbformat_minor": 2
}

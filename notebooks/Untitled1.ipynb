{
 "cells": [
  {
   "cell_type": "code",
   "execution_count": 5,
   "metadata": {},
   "outputs": [],
   "source": [
    "from gensim.models import Word2Vec"
   ]
  },
  {
   "cell_type": "code",
   "execution_count": 2,
   "metadata": {},
   "outputs": [],
   "source": [
    "path = '/Users/anne/repos/embedding_models/'"
   ]
  },
  {
   "cell_type": "code",
   "execution_count": 6,
   "metadata": {},
   "outputs": [],
   "source": [
    "model = Word2Vec.load(path + '/w2v_model_nr_7_window_10_size_300_negsample_15')"
   ]
  },
  {
   "cell_type": "code",
   "execution_count": 32,
   "metadata": {},
   "outputs": [],
   "source": [
    "import itertools\n",
    "\n",
    "competent = ['productief' , 'vaardig' , 'efficient' , 'capabel']\n",
    "incompetent = ['onproductief' , 'inefficient' , 'incapabel']\n",
    "\n",
    "oud = ['oud', 'oudere' , 'oude']\n",
    "jong = ['jong', 'jongere', 'jonge']"
   ]
  },
  {
   "cell_type": "code",
   "execution_count": 33,
   "metadata": {},
   "outputs": [],
   "source": [
    "competent_oud = list(itertools.product(oud,competent))\n",
    "competent_jong = list(itertools.product(jong,competent))\n",
    "incompetent_oud = list(itertools.product(oud,incompetent))\n",
    "incompetent_jong = list(itertools.product(jong,incompetent))"
   ]
  },
  {
   "cell_type": "code",
   "execution_count": 31,
   "metadata": {},
   "outputs": [
    {
     "name": "stderr",
     "output_type": "stream",
     "text": [
      "/Library/Frameworks/Python.framework/Versions/3.7/lib/python3.7/site-packages/ipykernel_launcher.py:1: DeprecationWarning: Call to deprecated `most_similar` (Method will be removed in 4.0.0, use self.wv.most_similar() instead).\n",
      "  \"\"\"Entry point for launching an IPython kernel.\n"
     ]
    },
    {
     "data": {
      "text/plain": [
       "[('stokoude', 0.6073811054229736),\n",
       " ('ouwe', 0.539788544178009),\n",
       " ('antieke', 0.5205024480819702),\n",
       " ('eeuwenoude', 0.5174258947372437),\n",
       " ('ouderwetse', 0.5039681792259216),\n",
       " ('vroegere', 0.4819931387901306),\n",
       " ('vooroorlogse', 0.475345253944397),\n",
       " ('middeleeuwse', 0.46409350633621216),\n",
       " ('aloude', 0.46173733472824097),\n",
       " ('oeroude', 0.45466089248657227)]"
      ]
     },
     "execution_count": 31,
     "metadata": {},
     "output_type": "execute_result"
    }
   ],
   "source": [
    "model.most_similar('oude')"
   ]
  },
  {
   "cell_type": "code",
   "execution_count": null,
   "metadata": {},
   "outputs": [],
   "source": [
    "def get_scores(self, combinations, ):\n",
    "    results = []\n",
    "    for pair in combinations:\n",
    "        try:\n",
    "            r = model.wv.similarity(pair[0],pair[1])\n",
    "            pair_1 = pair[0]\n",
    "            pair_2 = pair[1]\n",
    "        except KeyError:\n",
    "            r = 0\n",
    "        results.append({'pair': (pair[0],pair[1]),\n",
    "                    'word2vec_score_crim': r,\n",
    "                    'doctype': model['doctype'],\n",
    "                    'fromdate': model['fromdate'],\n",
    "                    'todate': model['todate']})\n",
    "    return results\n"
   ]
  }
 ],
 "metadata": {
  "kernelspec": {
   "display_name": "Python 3",
   "language": "python",
   "name": "python3"
  },
  "language_info": {
   "codemirror_mode": {
    "name": "ipython",
    "version": 3
   },
   "file_extension": ".py",
   "mimetype": "text/x-python",
   "name": "python",
   "nbconvert_exporter": "python",
   "pygments_lexer": "ipython3",
   "version": "3.7.2"
  }
 },
 "nbformat": 4,
 "nbformat_minor": 2
}

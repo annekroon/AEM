{
 "cells": [
  {
   "cell_type": "markdown",
   "metadata": {},
   "source": [
    "# Evaluating embedding models \n",
    "\n",
    "Evaluating the accuracy of w2v models. \n",
    "See https://arxiv.org/pdf/1801.09536.pdf and http://www.aclweb.org/anthology/D15-1036\n",
    "\n",
    "useful tutorial: \n",
    "https://github.com/parulsethi/gensim/blob/wordrank_wrapper/docs/notebooks/Wordrank_comparisons.ipynb"
   ]
  },
  {
   "cell_type": "code",
   "execution_count": 1,
   "metadata": {},
   "outputs": [],
   "source": [
    "import gensim\n",
    "import numpy as np\n",
    "import matplotlib.pyplot as plt\n",
    "import pandas as pd\n",
    "from gensim.models import Word2Vec\n",
    "from gensim.models import FastText\n",
    "from gensim.models import KeyedVectors\n",
    "from sklearn.manifold import TSNE\n",
    "import pandas as pd\n",
    "import logging\n",
    "import matplotlib.pyplot as plt\n",
    "\n",
    "logging.basicConfig(format='%(asctime)s : %(levelname)s : %(message)s', level=logging.INFO)"
   ]
  },
  {
   "cell_type": "code",
   "execution_count": 15,
   "metadata": {},
   "outputs": [],
   "source": [
    "#set paths\n",
    "\n",
    "models = \"../../embedding_models/\"\n",
    "AEM_folder = '/AEM_corpus/'\n",
    "word_analogies_dutchembbedings = '../model_evaluation/analogies/question-words.txt' # Tulkens et al.\n",
    "similarity_file = '../model_evaluation/similarities/wordsim353/wordsim353_nl_kort.tsv'"
   ]
  },
  {
   "cell_type": "markdown",
   "metadata": {},
   "source": [
    "### Load models (AEM, COW, WIKI)\n",
    "\n",
    "### AEM: \n",
    "this is trained on VK, Tel, AD, Trouw, NRC 2000-01-01 - 2015-12-31. training on a 1181701742 raw words (901179101 effective words)\n",
    "\n",
    "### COW:\n",
    "https://github.com/clips/dutchembeddings\n",
    "\n",
    "\n",
    "### FastText Wiki Model (Dutch):\n",
    "https://github.com/facebookresearch/fastText/blob/master/pretrained-vectors.md"
   ]
  },
  {
   "cell_type": "code",
   "execution_count": 16,
   "metadata": {},
   "outputs": [
    {
     "name": "stdout",
     "output_type": "stream",
     "text": [
      "\n",
      "Loading AEM embeddings\n",
      "Word2Vec(vocab=1055100, size=300, alpha=0.025)\n"
     ]
    }
   ],
   "source": [
    "print('\\nLoading AEM embeddings')\n",
    "\n",
    "import gensim \n",
    "\n",
    "new_model = 'w2v_model_nr_5_window_10_size_300_negsample_5'\n",
    "\n",
    "aem = gensim.models.Word2Vec.load(models + AEM_folder + new_model)\n",
    "print(aem)\n"
   ]
  },
  {
   "cell_type": "code",
   "execution_count": 18,
   "metadata": {},
   "outputs": [
    {
     "name": "stderr",
     "output_type": "stream",
     "text": [
      "/Library/Frameworks/Python.framework/Versions/3.7/lib/python3.7/site-packages/ipykernel_launcher.py:1: DeprecationWarning: Call to deprecated `accuracy` (Method will be removed in 4.0.0, use self.evaluate_word_analogies() instead).\n",
      "  \"\"\"Entry point for launching an IPython kernel.\n"
     ]
    },
    {
     "ename": "NameError",
     "evalue": "name 'results' is not defined",
     "output_type": "error",
     "traceback": [
      "\u001b[0;31m---------------------------------------------------------------------------\u001b[0m",
      "\u001b[0;31mNameError\u001b[0m                                 Traceback (most recent call last)",
      "\u001b[0;32m<ipython-input-18-d800c36324c5>\u001b[0m in \u001b[0;36m<module>\u001b[0;34m\u001b[0m\n\u001b[1;32m      1\u001b[0m \u001b[0;32mfor\u001b[0m \u001b[0mi\u001b[0m \u001b[0;32min\u001b[0m \u001b[0maem\u001b[0m\u001b[0;34m.\u001b[0m\u001b[0mwv\u001b[0m\u001b[0;34m.\u001b[0m\u001b[0maccuracy\u001b[0m\u001b[0;34m(\u001b[0m\u001b[0;34m\"../model_evaluation/analogies/question-words.txt\"\u001b[0m\u001b[0;34m)\u001b[0m\u001b[0;34m:\u001b[0m\u001b[0;34m\u001b[0m\u001b[0;34m\u001b[0m\u001b[0m\n\u001b[0;32m----> 2\u001b[0;31m     \u001b[0mresults\u001b[0m\u001b[0;34m[\u001b[0m\u001b[0mi\u001b[0m\u001b[0;34m[\u001b[0m\u001b[0;34m'section'\u001b[0m\u001b[0;34m]\u001b[0m\u001b[0;34m]\u001b[0m \u001b[0;34m=\u001b[0m \u001b[0mlen\u001b[0m\u001b[0;34m(\u001b[0m\u001b[0mi\u001b[0m\u001b[0;34m[\u001b[0m\u001b[0;34m'correct'\u001b[0m\u001b[0;34m]\u001b[0m\u001b[0;34m)\u001b[0m \u001b[0;34m/\u001b[0m \u001b[0;34m(\u001b[0m\u001b[0mlen\u001b[0m\u001b[0;34m(\u001b[0m\u001b[0mi\u001b[0m\u001b[0;34m[\u001b[0m\u001b[0;34m'incorrect'\u001b[0m\u001b[0;34m]\u001b[0m\u001b[0;34m)\u001b[0m \u001b[0;34m+\u001b[0m \u001b[0mlen\u001b[0m\u001b[0;34m(\u001b[0m\u001b[0mi\u001b[0m\u001b[0;34m[\u001b[0m\u001b[0;34m'correct'\u001b[0m\u001b[0;34m]\u001b[0m\u001b[0;34m)\u001b[0m\u001b[0;34m)\u001b[0m \u001b[0;34m*\u001b[0m \u001b[0;36m100\u001b[0m\u001b[0;34m\u001b[0m\u001b[0;34m\u001b[0m\u001b[0m\n\u001b[0m\u001b[1;32m      3\u001b[0m     \u001b[0mprint\u001b[0m\u001b[0;34m(\u001b[0m\u001b[0mresults\u001b[0m\u001b[0;34m)\u001b[0m\u001b[0;34m\u001b[0m\u001b[0;34m\u001b[0m\u001b[0m\n",
      "\u001b[0;31mNameError\u001b[0m: name 'results' is not defined"
     ]
    }
   ],
   "source": [
    "for i in aem.wv.accuracy(\"../model_evaluation/analogies/question-words.txt\"):\n",
    "    results[i['section']] = len(i['correct']) / (len(i['incorrect']) + len(i['correct'])) * 100\n",
    "    print(results)"
   ]
  },
  {
   "cell_type": "code",
   "execution_count": 7,
   "metadata": {},
   "outputs": [
    {
     "name": "stderr",
     "output_type": "stream",
     "text": [
      "2019-07-16 14:51:10,151 : INFO : loading projection weights from ../../embedding_models/cow-big.txt\n"
     ]
    },
    {
     "name": "stdout",
     "output_type": "stream",
     "text": [
      "\n",
      "Loading COW embeddings\n"
     ]
    },
    {
     "name": "stderr",
     "output_type": "stream",
     "text": [
      "2019-07-16 15:13:22,117 : INFO : loaded (3110718, 320) matrix from ../../embedding_models/cow-big.txt\n"
     ]
    },
    {
     "name": "stdout",
     "output_type": "stream",
     "text": [
      "3110718\n"
     ]
    }
   ],
   "source": [
    "print('\\nLoading COW embeddings')\n",
    "\n",
    "cow = gensim.models.KeyedVectors.load_word2vec_format(models + 'cow-big.txt', binary=False)\n",
    "\n",
    "print(len(cow.vocab))"
   ]
  },
  {
   "cell_type": "code",
   "execution_count": 8,
   "metadata": {},
   "outputs": [
    {
     "name": "stderr",
     "output_type": "stream",
     "text": [
      "2019-07-16 15:14:40,216 : INFO : loading projection weights from ../../embedding_models/wiki.nl.vec\n"
     ]
    },
    {
     "name": "stdout",
     "output_type": "stream",
     "text": [
      "\n",
      "Loading (FastText) Wikipedia Model\n"
     ]
    },
    {
     "name": "stderr",
     "output_type": "stream",
     "text": [
      "2019-07-16 15:21:04,999 : INFO : loaded (871022, 300) matrix from ../../embedding_models/wiki.nl.vec\n"
     ]
    },
    {
     "name": "stdout",
     "output_type": "stream",
     "text": [
      "871022\n"
     ]
    }
   ],
   "source": [
    "print('\\nLoading (FastText) Wikipedia Model')\n",
    "\n",
    "wiki = KeyedVectors.load_word2vec_format(models + 'wiki.nl.vec')\n",
    "\n",
    "print(len(wiki.vocab))"
   ]
  },
  {
   "cell_type": "code",
   "execution_count": 19,
   "metadata": {},
   "outputs": [],
   "source": [
    "import gensim\n",
    "import os\n",
    "from collections import defaultdict\n",
    "\n",
    "class word2vec_intrinsic_evaluation():\n",
    "    '''This class tests the intrinsic accuracy of word2vec models.'''\n",
    "\n",
    "    def __init__(self, path_to_embeddings, sample_size, path_to_evaluation_data):\n",
    "        self.nmodel = 0\n",
    "        self.samplesize = sample_size\n",
    "        self.basepath = path_to_embeddings\n",
    "        self.path_to_evaluation_data = path_to_evaluation_data\n",
    "\n",
    "    def get_w2v_model(self):\n",
    "        '''yields a dict with one item. key is the filename, value the gensim model'''\n",
    "\n",
    "        filenames = [e for e in os.listdir(self.basepath) if not e.startswith('.')]\n",
    "\n",
    "        for fname in filenames:\n",
    "            model = {}\n",
    "            path = os.path.join(self.basepath, fname)\n",
    "            print(\"\\nLoading gensim model\")\n",
    "\n",
    "            if fname.startswith('w2v'):\n",
    "                mod = gensim.models.Word2Vec.load(path)\n",
    "            else:\n",
    "                mod = gensim.models.KeyedVectors.load_word2vec_format(path)\n",
    "\n",
    "            model['gensimmodel'] = mod\n",
    "            model['filename'] = fname\n",
    "            self.nmodel +=1\n",
    "            print(\"loaded gensim model nr {}, named: {}\".format(self.nmodel, model['filename']))\n",
    "            yield model\n",
    "\n",
    "    def get_analogy_accuracy(self, model, evaluation_file):\n",
    "        results = {}\n",
    "        acc = []\n",
    "        for i in model.wv.accuracy(evaluation_file):\n",
    "            results[i['section']] = len(i['correct']) / (len(i['incorrect']) + len(i['correct'])) * 100\n",
    "        acc.append(results)\n",
    "        return acc\n",
    "\n",
    "    def get_scores(self):\n",
    "        final_results = []\n",
    "        evaluation_data = defaultdict(int)\n",
    "        for model in self.get_w2v_model():\n",
    "            print('starting evaluation data')\n",
    "            evaluation_data[model['filename']] = self.get_analogy_accuracy(model['gensimmodel'], self.path_to_evaluation_data)\n",
    "            final_results.append(evaluation_data)\n",
    "            print(final_results)\n",
    "        return final_results\n"
   ]
  },
  {
   "cell_type": "code",
   "execution_count": 20,
   "metadata": {},
   "outputs": [
    {
     "name": "stdout",
     "output_type": "stream",
     "text": [
      "\n",
      "Loading gensim model\n",
      "loaded gensim model nr 1, named: w2v_model_nr_0_window_5_size_100_negsample_5\n",
      "starting evaluation data\n"
     ]
    },
    {
     "name": "stderr",
     "output_type": "stream",
     "text": [
      "/Library/Frameworks/Python.framework/Versions/3.7/lib/python3.7/site-packages/ipykernel_launcher.py:38: DeprecationWarning: Call to deprecated `accuracy` (Method will be removed in 4.0.0, use self.evaluate_word_analogies() instead).\n"
     ]
    },
    {
     "name": "stdout",
     "output_type": "stream",
     "text": [
      "[defaultdict(<class 'int'>, {'w2v_model_nr_0_window_5_size_100_negsample_5': [{'infinitive': 68.29710144927536, 'nationalities': 27.380952380952383, 'diminutives': 27.205882352941174, 'country': 49.465240641711226, 'pasttense': 71.68560606060606, 'currency': 8.928571428571429, 'gender': 68.84057971014492, 'plural': 54.516129032258064, 'opposites': 14.545454545454545, 'superlative': 46.15384615384615, 'comparative': 73.9784946236559, 'total': 57.60233918128655}]})]\n",
      "\n",
      "Loading gensim model\n",
      "loaded gensim model nr 2, named: cow-320.txt\n",
      "starting evaluation data\n"
     ]
    },
    {
     "name": "stderr",
     "output_type": "stream",
     "text": [
      "/Library/Frameworks/Python.framework/Versions/3.7/lib/python3.7/site-packages/ipykernel_launcher.py:38: DeprecationWarning: Call to deprecated `wv` (Attribute will be removed in 4.0.0, use self instead).\n"
     ]
    },
    {
     "name": "stdout",
     "output_type": "stream",
     "text": [
      "[defaultdict(<class 'int'>, {'w2v_model_nr_0_window_5_size_100_negsample_5': [{'infinitive': 68.29710144927536, 'nationalities': 27.380952380952383, 'diminutives': 27.205882352941174, 'country': 49.465240641711226, 'pasttense': 71.68560606060606, 'currency': 8.928571428571429, 'gender': 68.84057971014492, 'plural': 54.516129032258064, 'opposites': 14.545454545454545, 'superlative': 46.15384615384615, 'comparative': 73.9784946236559, 'total': 57.60233918128655}], 'cow-320.txt': [{'infinitive': 68.3076923076923, 'nationalities': 23.57142857142857, 'diminutives': 51.31578947368421, 'country': 43.465909090909086, 'pasttense': 68.14516129032258, 'currency': 5.555555555555555, 'gender': 73.16017316017316, 'plural': 59.46969696969697, 'opposites': 30.0, 'superlative': 47.72727272727273, 'comparative': 79.63709677419355, 'total': 58.98449857639987}]}), defaultdict(<class 'int'>, {'w2v_model_nr_0_window_5_size_100_negsample_5': [{'infinitive': 68.29710144927536, 'nationalities': 27.380952380952383, 'diminutives': 27.205882352941174, 'country': 49.465240641711226, 'pasttense': 71.68560606060606, 'currency': 8.928571428571429, 'gender': 68.84057971014492, 'plural': 54.516129032258064, 'opposites': 14.545454545454545, 'superlative': 46.15384615384615, 'comparative': 73.9784946236559, 'total': 57.60233918128655}], 'cow-320.txt': [{'infinitive': 68.3076923076923, 'nationalities': 23.57142857142857, 'diminutives': 51.31578947368421, 'country': 43.465909090909086, 'pasttense': 68.14516129032258, 'currency': 5.555555555555555, 'gender': 73.16017316017316, 'plural': 59.46969696969697, 'opposites': 30.0, 'superlative': 47.72727272727273, 'comparative': 79.63709677419355, 'total': 58.98449857639987}]})]\n"
     ]
    }
   ],
   "source": [
    "path = \"/Users/anne/repos/embedding_models/test/\"\n",
    "get_ = word2vec_intrinsic_evaluation(path_to_embeddings= path, sample_size = \"large\", path_to_evaluation_data=\"../model_evaluation/analogies/question-words.txt\")\n",
    "result = get_.get_scores()"
   ]
  },
  {
   "cell_type": "code",
   "execution_count": 23,
   "metadata": {},
   "outputs": [],
   "source": [
    "ed = {k:v for element in result for k,v in element.items()}\n",
    "d = {k: {k: v for ed in L for k, v in ed.items()} for k, L in ed.items()}\n",
    "df = pd.DataFrame.from_records(d).transpose()"
   ]
  },
  {
   "cell_type": "code",
   "execution_count": 24,
   "metadata": {},
   "outputs": [
    {
     "data": {
      "text/plain": [
       "{'w2v_model_nr_0_window_5_size_100_negsample_5': [{'infinitive': 68.29710144927536,\n",
       "   'nationalities': 27.380952380952383,\n",
       "   'diminutives': 27.205882352941174,\n",
       "   'country': 49.465240641711226,\n",
       "   'pasttense': 71.68560606060606,\n",
       "   'currency': 8.928571428571429,\n",
       "   'gender': 68.84057971014492,\n",
       "   'plural': 54.516129032258064,\n",
       "   'opposites': 14.545454545454545,\n",
       "   'superlative': 46.15384615384615,\n",
       "   'comparative': 73.9784946236559,\n",
       "   'total': 57.60233918128655}],\n",
       " 'cow-320.txt': [{'infinitive': 68.3076923076923,\n",
       "   'nationalities': 23.57142857142857,\n",
       "   'diminutives': 51.31578947368421,\n",
       "   'country': 43.465909090909086,\n",
       "   'pasttense': 68.14516129032258,\n",
       "   'currency': 5.555555555555555,\n",
       "   'gender': 73.16017316017316,\n",
       "   'plural': 59.46969696969697,\n",
       "   'opposites': 30.0,\n",
       "   'superlative': 47.72727272727273,\n",
       "   'comparative': 79.63709677419355,\n",
       "   'total': 58.98449857639987}]}"
      ]
     },
     "execution_count": 24,
     "metadata": {},
     "output_type": "execute_result"
    }
   ],
   "source": [
    "ed"
   ]
  },
  {
   "cell_type": "code",
   "execution_count": 27,
   "metadata": {},
   "outputs": [],
   "source": [
    "import pandas as pd\n",
    "d = {k: {k: v for ed in L for k, v in ed.items()} for k, L in ed.items()}\n",
    "df = pd.DataFrame.from_records(d).transpose()"
   ]
  },
  {
   "cell_type": "code",
   "execution_count": 28,
   "metadata": {},
   "outputs": [
    {
     "data": {
      "text/html": [
       "<div>\n",
       "<style scoped>\n",
       "    .dataframe tbody tr th:only-of-type {\n",
       "        vertical-align: middle;\n",
       "    }\n",
       "\n",
       "    .dataframe tbody tr th {\n",
       "        vertical-align: top;\n",
       "    }\n",
       "\n",
       "    .dataframe thead th {\n",
       "        text-align: right;\n",
       "    }\n",
       "</style>\n",
       "<table border=\"1\" class=\"dataframe\">\n",
       "  <thead>\n",
       "    <tr style=\"text-align: right;\">\n",
       "      <th></th>\n",
       "      <th>comparative</th>\n",
       "      <th>country</th>\n",
       "      <th>currency</th>\n",
       "      <th>diminutives</th>\n",
       "      <th>gender</th>\n",
       "      <th>infinitive</th>\n",
       "      <th>nationalities</th>\n",
       "      <th>opposites</th>\n",
       "      <th>pasttense</th>\n",
       "      <th>plural</th>\n",
       "      <th>superlative</th>\n",
       "      <th>total</th>\n",
       "    </tr>\n",
       "  </thead>\n",
       "  <tbody>\n",
       "    <tr>\n",
       "      <th>cow-320.txt</th>\n",
       "      <td>79.637097</td>\n",
       "      <td>43.465909</td>\n",
       "      <td>5.555556</td>\n",
       "      <td>51.315789</td>\n",
       "      <td>73.160173</td>\n",
       "      <td>68.307692</td>\n",
       "      <td>23.571429</td>\n",
       "      <td>30.000000</td>\n",
       "      <td>68.145161</td>\n",
       "      <td>59.469697</td>\n",
       "      <td>47.727273</td>\n",
       "      <td>58.984499</td>\n",
       "    </tr>\n",
       "    <tr>\n",
       "      <th>w2v_model_nr_0_window_5_size_100_negsample_5</th>\n",
       "      <td>73.978495</td>\n",
       "      <td>49.465241</td>\n",
       "      <td>8.928571</td>\n",
       "      <td>27.205882</td>\n",
       "      <td>68.840580</td>\n",
       "      <td>68.297101</td>\n",
       "      <td>27.380952</td>\n",
       "      <td>14.545455</td>\n",
       "      <td>71.685606</td>\n",
       "      <td>54.516129</td>\n",
       "      <td>46.153846</td>\n",
       "      <td>57.602339</td>\n",
       "    </tr>\n",
       "  </tbody>\n",
       "</table>\n",
       "</div>"
      ],
      "text/plain": [
       "                                              comparative    country  \\\n",
       "cow-320.txt                                     79.637097  43.465909   \n",
       "w2v_model_nr_0_window_5_size_100_negsample_5    73.978495  49.465241   \n",
       "\n",
       "                                              currency  diminutives  \\\n",
       "cow-320.txt                                   5.555556    51.315789   \n",
       "w2v_model_nr_0_window_5_size_100_negsample_5  8.928571    27.205882   \n",
       "\n",
       "                                                 gender  infinitive  \\\n",
       "cow-320.txt                                   73.160173   68.307692   \n",
       "w2v_model_nr_0_window_5_size_100_negsample_5  68.840580   68.297101   \n",
       "\n",
       "                                              nationalities  opposites  \\\n",
       "cow-320.txt                                       23.571429  30.000000   \n",
       "w2v_model_nr_0_window_5_size_100_negsample_5      27.380952  14.545455   \n",
       "\n",
       "                                              pasttense     plural  \\\n",
       "cow-320.txt                                   68.145161  59.469697   \n",
       "w2v_model_nr_0_window_5_size_100_negsample_5  71.685606  54.516129   \n",
       "\n",
       "                                              superlative      total  \n",
       "cow-320.txt                                     47.727273  58.984499  \n",
       "w2v_model_nr_0_window_5_size_100_negsample_5    46.153846  57.602339  "
      ]
     },
     "execution_count": 28,
     "metadata": {},
     "output_type": "execute_result"
    }
   ],
   "source": [
    "df"
   ]
  },
  {
   "cell_type": "markdown",
   "metadata": {},
   "source": [
    "# Intrinsic metrics \n",
    "## 1. Word analogies/ relationships"
   ]
  },
  {
   "cell_type": "markdown",
   "metadata": {},
   "source": [
    "Please find the complete analogy-testing file here: https://raw.githubusercontent.com/tmikolov/word2vec/master/questions-words.txt (in English)\n",
    "\n",
    "and a Dutch version: https://github.com/clips/dutchembeddings"
   ]
  },
  {
   "cell_type": "code",
   "execution_count": 9,
   "metadata": {},
   "outputs": [],
   "source": [
    "def print_analogy_accuracy(model, questions_file):\n",
    "    results = {}\n",
    "    acc = []\n",
    "    for i in model.wv.accuracy(questions_file): \n",
    "        results[i['section']] = len(i['correct']) / (len(i['incorrect']) + len(i['correct'])) * 100\n",
    "    acc.append(results)\n",
    "    return acc\n",
    "\n",
    "evaluation_data = {}\n",
    "evaluation_data['aem'] = []\n",
    "evaluation_data['cow'] = []\n",
    "evaluation_data['wiki'] = []"
   ]
  },
  {
   "cell_type": "code",
   "execution_count": 10,
   "metadata": {},
   "outputs": [
    {
     "name": "stderr",
     "output_type": "stream",
     "text": [
      "/Library/Frameworks/Python.framework/Versions/3.7/lib/python3.7/site-packages/ipykernel_launcher.py:4: DeprecationWarning: Call to deprecated `wv` (Attribute will be removed in 4.0.0, use self instead).\n",
      "  after removing the cwd from sys.path.\n",
      "/Library/Frameworks/Python.framework/Versions/3.7/lib/python3.7/site-packages/ipykernel_launcher.py:4: DeprecationWarning: Call to deprecated `accuracy` (Method will be removed in 4.0.0, use self.evaluate_word_analogies() instead).\n",
      "  after removing the cwd from sys.path.\n",
      "2019-07-16 15:22:01,928 : INFO : precomputing L2-norms of word weight vectors\n",
      "2019-07-16 15:29:09,515 : INFO : infinitive: 72.6% (472/650)\n",
      "2019-07-16 15:29:12,278 : INFO : nationalities: 24.3% (102/420)\n",
      "2019-07-16 15:29:14,614 : INFO : diminutives: 50.8% (193/380)\n",
      "2019-07-16 15:29:21,669 : INFO : country: 44.5% (470/1056)\n",
      "2019-07-16 15:29:27,756 : INFO : pasttense: 68.8% (682/992)\n",
      "2019-07-16 15:29:28,174 : INFO : currency: 4.2% (3/72)\n",
      "2019-07-16 15:29:30,986 : INFO : gender: 72.9% (337/462)\n",
      "2019-07-16 15:29:37,432 : INFO : plural: 60.3% (637/1056)\n",
      "2019-07-16 15:29:38,199 : INFO : opposites: 30.9% (34/110)\n",
      "2019-07-16 15:29:39,153 : INFO : superlative: 48.5% (64/132)\n",
      "2019-07-16 15:29:45,650 : INFO : comparative: 79.7% (791/992)\n",
      "2019-07-16 15:29:45,653 : INFO : total: 59.9% (3785/6322)\n",
      "2019-07-16 15:29:46,661 : INFO : precomputing L2-norms of word weight vectors\n",
      "2019-07-16 15:30:15,710 : INFO : infinitive: 69.4% (351/506)\n",
      "2019-07-16 15:30:18,857 : INFO : nationalities: 47.4% (219/462)\n",
      "2019-07-16 15:30:20,625 : INFO : diminutives: 28.7% (78/272)\n",
      "2019-07-16 15:30:29,221 : INFO : country: 74.0% (986/1332)\n",
      "2019-07-16 15:30:36,089 : INFO : pasttense: 73.2% (773/1056)\n",
      "2019-07-16 15:30:36,759 : INFO : currency: 17.8% (16/90)\n",
      "2019-07-16 15:30:40,759 : INFO : gender: 77.5% (392/506)\n",
      "2019-07-16 15:30:47,101 : INFO : plural: 67.4% (669/992)\n",
      "2019-07-16 15:30:47,871 : INFO : opposites: 22.7% (30/132)\n",
      "2019-07-16 15:30:48,657 : INFO : superlative: 50.0% (66/132)\n",
      "2019-07-16 15:30:56,318 : INFO : comparative: 82.8% (720/870)\n",
      "2019-07-16 15:30:56,336 : INFO : total: 67.7% (4300/6350)\n",
      "2019-07-16 15:30:56,875 : INFO : precomputing L2-norms of word weight vectors\n",
      "2019-07-16 15:31:31,599 : INFO : infinitive: 45.2% (190/420)\n",
      "2019-07-16 15:31:34,600 : INFO : nationalities: 33.6% (170/506)\n",
      "2019-07-16 15:31:34,925 : INFO : diminutives: 37.5% (21/56)\n",
      "2019-07-16 15:31:46,657 : INFO : country: 53.8% (1066/1980)\n",
      "2019-07-16 15:31:49,964 : INFO : pasttense: 55.0% (330/600)\n",
      "2019-07-16 15:31:50,606 : INFO : currency: 10.0% (11/110)\n",
      "2019-07-16 15:31:53,525 : INFO : gender: 69.2% (350/506)\n",
      "2019-07-16 15:31:58,673 : INFO : plural: 79.4% (738/930)\n",
      "2019-07-16 15:31:59,011 : INFO : opposites: 33.9% (19/56)\n",
      "2019-07-16 15:31:59,577 : INFO : superlative: 34.4% (31/90)\n",
      "2019-07-16 15:32:02,839 : INFO : comparative: 79.9% (441/552)\n",
      "2019-07-16 15:32:02,840 : INFO : total: 58.0% (3367/5806)\n"
     ]
    }
   ],
   "source": [
    "evaluation_data['cow'] += print_analogy_accuracy(cow, word_analogies_dutchembbedings)\n",
    "evaluation_data['aem'] += print_analogy_accuracy(aem, word_analogies_dutchembbedings)\n",
    "evaluation_data['wiki'] += print_analogy_accuracy(wiki, word_analogies_dutchembbedings)"
   ]
  },
  {
   "cell_type": "code",
   "execution_count": 11,
   "metadata": {},
   "outputs": [],
   "source": [
    "evaluation_data\n",
    "\n",
    "#create df\n",
    "\n",
    "d = {k: {k: v for evaluation_data in L for k, v in evaluation_data.items()} for k, L in evaluation_data.items()}\n",
    "df = pd.DataFrame.from_records(d).transpose()"
   ]
  },
  {
   "cell_type": "code",
   "execution_count": 12,
   "metadata": {},
   "outputs": [],
   "source": [
    "# combine syntatic and semantic categories\n",
    "\n",
    "df['syntactic'] = ( df['comparative'] + df['pasttense'] + df['diminutives'] + df['infinitive'] + df['plural'] + df['superlative'] ) / 6\n",
    "df['semantic'] = ( df['country'] + df['currency'] + df['gender'] + df['nationalities'] + df['opposites'] ) / 5\n",
    "\n",
    "df = df[['syntactic' , 'semantic', 'total' ]]"
   ]
  },
  {
   "cell_type": "code",
   "execution_count": 13,
   "metadata": {},
   "outputs": [
    {
     "data": {
      "text/plain": [
       "Index(['aem', 'cow', 'wiki'], dtype='object')"
      ]
     },
     "execution_count": 13,
     "metadata": {},
     "output_type": "execute_result"
    }
   ],
   "source": [
    "df = df.transpose()\n",
    "df.columns"
   ]
  },
  {
   "cell_type": "code",
   "execution_count": 15,
   "metadata": {},
   "outputs": [],
   "source": [
    "df.to_pickle('../resources/evaluation_data_nr5')\n",
    "df = pd.read_pickle('../resources/evaluation_data_nr5')"
   ]
  },
  {
   "cell_type": "code",
   "execution_count": 14,
   "metadata": {},
   "outputs": [
    {
     "data": {
      "image/png": "[encoded data removed]",
      "text/plain": [
       "<Figure size 720x576 with 1 Axes>"
      ]
     },
     "metadata": {
      "needs_background": "light"
     },
     "output_type": "display_data"
    }
   ],
   "source": [
    "ax = df[['cow', 'wiki', 'aem']].plot(kind='bar', title =\"Evaluating Dutch Embeddings\", figsize=(10, 8), legend=True, fontsize=14)\n",
    "ax.set_xlabel(\"\", fontsize=14)\n",
    "ax.set_ylabel(\"Accuracy (%)\", fontsize=14)\n",
    "ax.set_facecolor('white')\n",
    "ax.legend(fancybox=True, framealpha=0.5, prop={'size': 20}, loc=2)\n",
    "for tick in ax.get_xticklabels():\n",
    "    tick.set_rotation(45)\n",
    "plt.show()\n",
    "#plt.style.use('seaborn-dark')"
   ]
  },
  {
   "cell_type": "code",
   "execution_count": 332,
   "metadata": {},
   "outputs": [
    {
     "name": "stdout",
     "output_type": "stream",
     "text": [
      "['seaborn-dark', 'seaborn-darkgrid', 'seaborn-ticks', 'fivethirtyeight', 'seaborn-whitegrid', 'classic', '_classic_test', 'fast', 'seaborn-talk', 'seaborn-dark-palette', 'seaborn-bright', 'seaborn-pastel', 'grayscale', 'seaborn-notebook', 'ggplot', 'seaborn-colorblind', 'seaborn-muted', 'seaborn', 'Solarize_Light2', 'seaborn-paper', 'bmh', 'tableau-colorblind10', 'seaborn-white', 'dark_background', 'seaborn-poster', 'seaborn-deep']\n"
     ]
    }
   ],
   "source": [
    "#print(plt.style.available)"
   ]
  },
  {
   "cell_type": "markdown",
   "metadata": {},
   "source": [
    "## 2. Word similarity task"
   ]
  },
  {
   "cell_type": "code",
   "execution_count": 363,
   "metadata": {},
   "outputs": [],
   "source": [
    "def print_similarity_accuracy(model, similarity_file):\n",
    "    acc = model.wv.evaluate_word_pairs(similarity_file)\n",
    "    print('Pearson correlation coefficient: {:.2f}'.format(acc[0][0]))\n",
    "    print('Spearman rank correlation coefficient: {:.2f}'.format(acc[1][0]))"
   ]
  },
  {
   "cell_type": "code",
   "execution_count": 364,
   "metadata": {},
   "outputs": [
    {
     "name": "stdout",
     "output_type": "stream",
     "text": [
      "\n",
      "WordSim-353 similarity word2vec\n"
     ]
    },
    {
     "name": "stderr",
     "output_type": "stream",
     "text": [
      "2019-01-31 10:32:21,436 : INFO : Skipping invalid line #2 in ../model_evaluation/similarities/wordsim353/wordsim353_nl_kort.tsv\n",
      "2019-01-31 10:32:21,453 : INFO : Skipping invalid line #7 in ../model_evaluation/similarities/wordsim353/wordsim353_nl_kort.tsv\n",
      "2019-01-31 10:32:21,477 : INFO : Skipping invalid line #13 in ../model_evaluation/similarities/wordsim353/wordsim353_nl_kort.tsv\n",
      "2019-01-31 10:32:21,486 : INFO : Skipping invalid line #18 in ../model_evaluation/similarities/wordsim353/wordsim353_nl_kort.tsv\n",
      "2019-01-31 10:32:21,500 : INFO : Skipping invalid line #24 in ../model_evaluation/similarities/wordsim353/wordsim353_nl_kort.tsv\n",
      "2019-01-31 10:32:21,507 : INFO : Skipping invalid line #25 in ../model_evaluation/similarities/wordsim353/wordsim353_nl_kort.tsv\n",
      "2019-01-31 10:32:21,521 : INFO : Skipping invalid line #28 in ../model_evaluation/similarities/wordsim353/wordsim353_nl_kort.tsv\n",
      "2019-01-31 10:32:21,522 : INFO : Skipping invalid line #29 in ../model_evaluation/similarities/wordsim353/wordsim353_nl_kort.tsv\n",
      "2019-01-31 10:32:21,571 : INFO : Skipping invalid line #42 in ../model_evaluation/similarities/wordsim353/wordsim353_nl_kort.tsv\n",
      "2019-01-31 10:32:21,589 : INFO : Skipping invalid line #50 in ../model_evaluation/similarities/wordsim353/wordsim353_nl_kort.tsv\n",
      "2019-01-31 10:32:21,591 : INFO : Skipping invalid line #52 in ../model_evaluation/similarities/wordsim353/wordsim353_nl_kort.tsv\n",
      "2019-01-31 10:32:21,593 : INFO : Skipping invalid line #53 in ../model_evaluation/similarities/wordsim353/wordsim353_nl_kort.tsv\n",
      "2019-01-31 10:32:21,597 : INFO : Skipping invalid line #54 in ../model_evaluation/similarities/wordsim353/wordsim353_nl_kort.tsv\n",
      "2019-01-31 10:32:21,637 : INFO : Skipping invalid line #64 in ../model_evaluation/similarities/wordsim353/wordsim353_nl_kort.tsv\n",
      "2019-01-31 10:32:21,663 : INFO : Skipping invalid line #69 in ../model_evaluation/similarities/wordsim353/wordsim353_nl_kort.tsv\n",
      "2019-01-31 10:32:21,687 : INFO : Skipping invalid line #79 in ../model_evaluation/similarities/wordsim353/wordsim353_nl_kort.tsv\n",
      "2019-01-31 10:32:21,710 : INFO : Skipping invalid line #91 in ../model_evaluation/similarities/wordsim353/wordsim353_nl_kort.tsv\n",
      "2019-01-31 10:32:21,765 : INFO : Pearson correlation coefficient against ../model_evaluation/similarities/wordsim353/wordsim353_nl_kort.tsv: 0.6406\n",
      "2019-01-31 10:32:21,768 : INFO : Spearman rank-order correlation coefficient against ../model_evaluation/similarities/wordsim353/wordsim353_nl_kort.tsv: 0.6414\n",
      "2019-01-31 10:32:21,771 : INFO : Pairs with unknown words ratio: 0.0%\n"
     ]
    },
    {
     "name": "stdout",
     "output_type": "stream",
     "text": [
      "Pearson correlation coefficient: 0.64\n",
      "Spearman rank correlation coefficient: 0.64\n"
     ]
    }
   ],
   "source": [
    "print('\\nWordSim-353 similarity word2vec')\n",
    "print_similarity_accuracy(aem, similarity_file)"
   ]
  },
  {
   "cell_type": "code",
   "execution_count": 365,
   "metadata": {},
   "outputs": [
    {
     "name": "stdout",
     "output_type": "stream",
     "text": [
      "\n",
      "WordSim-353 similarity word2vec\n"
     ]
    },
    {
     "name": "stderr",
     "output_type": "stream",
     "text": [
      "/Library/Frameworks/Python.framework/Versions/3.7/lib/python3.7/site-packages/ipykernel_launcher.py:2: DeprecationWarning: Call to deprecated `wv` (Attribute will be removed in 4.0.0, use self instead).\n",
      "  \n",
      "2019-01-31 10:32:31,016 : INFO : Skipping invalid line #2 in ../model_evaluation/similarities/wordsim353/wordsim353_nl_kort.tsv\n",
      "2019-01-31 10:32:31,026 : INFO : Skipping invalid line #7 in ../model_evaluation/similarities/wordsim353/wordsim353_nl_kort.tsv\n",
      "2019-01-31 10:32:31,042 : INFO : Skipping invalid line #13 in ../model_evaluation/similarities/wordsim353/wordsim353_nl_kort.tsv\n",
      "2019-01-31 10:32:31,053 : INFO : Skipping invalid line #18 in ../model_evaluation/similarities/wordsim353/wordsim353_nl_kort.tsv\n",
      "2019-01-31 10:32:31,063 : INFO : Skipping invalid line #24 in ../model_evaluation/similarities/wordsim353/wordsim353_nl_kort.tsv\n",
      "2019-01-31 10:32:31,065 : INFO : Skipping invalid line #25 in ../model_evaluation/similarities/wordsim353/wordsim353_nl_kort.tsv\n",
      "2019-01-31 10:32:31,073 : INFO : Skipping invalid line #28 in ../model_evaluation/similarities/wordsim353/wordsim353_nl_kort.tsv\n",
      "2019-01-31 10:32:31,076 : INFO : Skipping invalid line #29 in ../model_evaluation/similarities/wordsim353/wordsim353_nl_kort.tsv\n",
      "2019-01-31 10:32:31,104 : INFO : Skipping invalid line #42 in ../model_evaluation/similarities/wordsim353/wordsim353_nl_kort.tsv\n",
      "2019-01-31 10:32:31,117 : INFO : Skipping invalid line #50 in ../model_evaluation/similarities/wordsim353/wordsim353_nl_kort.tsv\n",
      "2019-01-31 10:32:31,121 : INFO : Skipping invalid line #52 in ../model_evaluation/similarities/wordsim353/wordsim353_nl_kort.tsv\n",
      "2019-01-31 10:32:31,123 : INFO : Skipping invalid line #53 in ../model_evaluation/similarities/wordsim353/wordsim353_nl_kort.tsv\n",
      "2019-01-31 10:32:31,125 : INFO : Skipping invalid line #54 in ../model_evaluation/similarities/wordsim353/wordsim353_nl_kort.tsv\n",
      "2019-01-31 10:32:31,146 : INFO : Skipping invalid line #64 in ../model_evaluation/similarities/wordsim353/wordsim353_nl_kort.tsv\n",
      "2019-01-31 10:32:31,157 : INFO : Skipping invalid line #69 in ../model_evaluation/similarities/wordsim353/wordsim353_nl_kort.tsv\n",
      "2019-01-31 10:32:31,170 : INFO : Skipping invalid line #79 in ../model_evaluation/similarities/wordsim353/wordsim353_nl_kort.tsv\n",
      "2019-01-31 10:32:31,182 : INFO : Skipping invalid line #91 in ../model_evaluation/similarities/wordsim353/wordsim353_nl_kort.tsv\n",
      "2019-01-31 10:32:31,203 : INFO : Pearson correlation coefficient against ../model_evaluation/similarities/wordsim353/wordsim353_nl_kort.tsv: 0.6630\n",
      "2019-01-31 10:32:31,206 : INFO : Spearman rank-order correlation coefficient against ../model_evaluation/similarities/wordsim353/wordsim353_nl_kort.tsv: 0.6300\n",
      "2019-01-31 10:32:31,207 : INFO : Pairs with unknown words ratio: 0.0%\n"
     ]
    },
    {
     "name": "stdout",
     "output_type": "stream",
     "text": [
      "Pearson correlation coefficient: 0.66\n",
      "Spearman rank correlation coefficient: 0.63\n"
     ]
    }
   ],
   "source": [
    "print('\\nWordSim-353 similarity word2vec')\n",
    "print_similarity_accuracy(wiki, similarity_file)"
   ]
  },
  {
   "cell_type": "markdown",
   "metadata": {},
   "source": [
    "## 3. Concept categorization\n",
    "\n",
    "### Word2Vec "
   ]
  },
  {
   "cell_type": "code",
   "execution_count": 504,
   "metadata": {},
   "outputs": [],
   "source": [
    "import matplotlib.pyplot as plt\n",
    "import matplotlib.cm as cm\n",
    "from sklearn.manifold import TSNE\n",
    "import numpy as np\n",
    "\n",
    "%matplotlib inline\n",
    "\n",
    "keys = ['hond', 'kat', 'roodborstje', 'kraai', 'fiets']\n",
    "#keys = ['hond']\n",
    "\n",
    "embedding_clusters = np.array(embedding_clusters)\n",
    "n, m, k = embedding_clusters.shape\n",
    "tsne_model_en_2d = TSNE(perplexity=2, n_components=2, init='pca', n_iter=3500, random_state=32)\n",
    "embeddings_en_2d = np.array(tsne_model_en_2d.fit_transform(embedding_clusters.reshape(n * m, k))).reshape(n, m, 2)"
   ]
  },
  {
   "cell_type": "code",
   "execution_count": 501,
   "metadata": {},
   "outputs": [],
   "source": [
    "def tsne_plot_similar_words(title, labels, embedding_clusters, word_clusters, a, filename=None):\n",
    "    plt.figure(facecolor = 'w', figsize=(14, 9))\n",
    "    colors = cm.rainbow(np.linspace(0, 1, len(labels)))\n",
    "    for label, embeddings, words, color in zip(labels, embedding_clusters, word_clusters, colors):\n",
    "        x = embeddings[:,0]\n",
    "        y = embeddings[:,1]\n",
    "        plt.scatter(x, y, alpha=a, label=label)\n",
    "        for i, word in enumerate(words):\n",
    "            plt.annotate(word, alpha=0.8, xy=(x[i], y[i]), xytext=(5, 2), \n",
    "                         textcoords='offset points', ha='right', va='bottom', size=8)\n",
    "    plt.legend(loc=4, fancybox=True, framealpha=0.5, prop={'size': 12})\n",
    "    plt.grid(False)\n",
    "   # plt.style.use('seaborn-dark')\n",
    "    plt.savefig(\"similiar.png\", facecolor='w', edgecolor='w', dpi=1000)\n",
    "    plt.show()"
   ]
  },
  {
   "cell_type": "code",
   "execution_count": 503,
   "metadata": {},
   "outputs": [
    {
     "name": "stderr",
     "output_type": "stream",
     "text": [
      "/Library/Frameworks/Python.framework/Versions/3.7/lib/python3.7/site-packages/ipykernel_launcher.py:6: DeprecationWarning: Call to deprecated `most_similar` (Method will be removed in 4.0.0, use self.wv.most_similar() instead).\n",
      "  \n",
      "/Library/Frameworks/Python.framework/Versions/3.7/lib/python3.7/site-packages/ipykernel_launcher.py:8: DeprecationWarning: Call to deprecated `__getitem__` (Method will be removed in 4.0.0, use self.wv.__getitem__() instead).\n",
      "  \n"
     ]
    },
    {
     "data": {
      "image/png": "[encoded data removed]",
      "text/plain": [
       "<Figure size 1008x648 with 1 Axes>"
      ]
     },
     "metadata": {},
     "output_type": "display_data"
    }
   ],
   "source": [
    "keys = ['hond', 'kat', 'roodborstje', 'kraai', 'fiets']\n",
    "\n",
    "embedding_clusters = []\n",
    "word_clusters = []\n",
    "for word in keys:\n",
    "    embeddings = []\n",
    "    words = []\n",
    "    for similar_word, _ in unique_w2v.most_similar(word, topn=20):\n",
    "        words.append(similar_word)\n",
    "        embeddings.append(unique_w2v[similar_word])\n",
    "    embedding_clusters.append(embeddings)\n",
    "    word_clusters.append(words)\n",
    "    \n",
    "embedding_clusters = np.array(embedding_clusters)\n",
    "n, m, k = embedding_clusters.shape\n",
    "tsne_model_en_2d = TSNE(perplexity=10, n_components=2, init='pca', n_iter=3500, random_state=32)\n",
    "embeddings_en_2d = np.array(tsne_model_en_2d.fit_transform(embedding_clusters.reshape(n * m, k))).reshape(n, m, 2)\n",
    "\n",
    "tsne_plot_similar_words('Similar words from AEM', keys, embeddings_en_2d, word_clusters, 0.7,\n",
    "                        'similar_words.png')"
   ]
  }
 ],
 "metadata": {
  "kernelspec": {
   "display_name": "Python 3",
   "language": "python",
   "name": "python3"
  },
  "language_info": {
   "codemirror_mode": {
    "name": "ipython",
    "version": 3
   },
   "file_extension": ".py",
   "mimetype": "text/x-python",
   "name": "python",
   "nbconvert_exporter": "python",
   "pygments_lexer": "ipython3",
   "version": "3.5.2"
  }
 },
 "nbformat": 4,
 "nbformat_minor": 2
}

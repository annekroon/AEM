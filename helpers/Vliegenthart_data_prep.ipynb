{
 "cells": [
  {
   "cell_type": "markdown",
   "metadata": {},
   "source": [
    "### This script prepares the data of Burscher, Vliegenthart & De Vreese (2015) for ML"
   ]
  },
  {
   "cell_type": "code",
   "execution_count": 267,
   "metadata": {},
   "outputs": [],
   "source": [
    "import pandas as pd"
   ]
  },
  {
   "cell_type": "code",
   "execution_count": 268,
   "metadata": {},
   "outputs": [],
   "source": [
    "path_to_data ='/home/anne/tmpanne/'\n",
    "df = pd.read_pickle(path_to_data + \"news_dataset_annotated.pkl\")"
   ]
  },
  {
   "cell_type": "code",
   "execution_count": 269,
   "metadata": {},
   "outputs": [],
   "source": [
    "def recode_cat(x):\n",
    "    if x == \" \":\n",
    "        x = '99'\n",
    "    return x\n",
    "\n",
    "df['v9_major'] = df['v9_major'].map(recode_cat)"
   ]
  },
  {
   "cell_type": "code",
   "execution_count": 270,
   "metadata": {},
   "outputs": [],
   "source": [
    "df['main_topic'] = df['v9_major']\n",
    "df['main_topic'] = df['main_topic'].astype(float)"
   ]
  },
  {
   "cell_type": "code",
   "execution_count": 271,
   "metadata": {},
   "outputs": [],
   "source": [
    "# some weird values occur in the column 'v9_major'. Consequently, I did my best to map the values to their 'major' category. \n",
    "\n",
    "d = {205: 20,\n",
    "729: 7,\n",
    "192 : 19,\n",
    "1903 : 19,\n",
    "18 : 99,\n",
    "21 : 99,\n",
    "23 : 99,\n",
    "28 : 99,\n",
    "29 : 99, \n",
    "30: 99,\n",
    "31 : 99,\n",
    "27  : 99,\n",
    "32 : 99, \n",
    "24: 20,\n",
    "205 : 20, \n",
    "185 : 18,\n",
    "93: 9,\n",
    "1609 : 16,\n",
    "72 : 7,\n",
    "1916 : 19,\n",
    "729 : 7,\n",
    "185 : 99,\n",
    "93 : 9,\n",
    "1609 : 16,\n",
    "72 : 7,\n",
    "1916 : 19,\n",
    "993 : 99,\n",
    "311: 99}"
   ]
  },
  {
   "cell_type": "code",
   "execution_count": 272,
   "metadata": {},
   "outputs": [],
   "source": [
    "# apply dictionarly to recode\n",
    "df['main_topic'] = df['main_topic'].map(d)\n",
    "df.main_topic.fillna(df.v9_major, inplace =True)\n",
    "df['main_topic'] = df['main_topic'].astype(int)\n",
    "df['main_topic'] = df['main_topic'].astype(str)"
   ]
  },
  {
   "cell_type": "code",
   "execution_count": 273,
   "metadata": {},
   "outputs": [
    {
     "data": {
      "text/plain": [
       "19"
      ]
     },
     "execution_count": 273,
     "metadata": {},
     "output_type": "execute_result"
    }
   ],
   "source": [
    "len(df['main_topic'].unique())"
   ]
  },
  {
   "cell_type": "code",
   "execution_count": 274,
   "metadata": {},
   "outputs": [
    {
     "data": {
      "text/html": [
       "<div>\n",
       "<style scoped>\n",
       "    .dataframe tbody tr th:only-of-type {\n",
       "        vertical-align: middle;\n",
       "    }\n",
       "\n",
       "    .dataframe tbody tr th {\n",
       "        vertical-align: top;\n",
       "    }\n",
       "\n",
       "    .dataframe thead th {\n",
       "        text-align: right;\n",
       "    }\n",
       "</style>\n",
       "<table border=\"1\" class=\"dataframe\">\n",
       "  <thead>\n",
       "    <tr style=\"text-align: right;\">\n",
       "      <th></th>\n",
       "      <th>main_topic</th>\n",
       "      <th>main_topic_label</th>\n",
       "    </tr>\n",
       "  </thead>\n",
       "  <tbody>\n",
       "    <tr>\n",
       "      <th>0</th>\n",
       "      <td>99</td>\n",
       "      <td>Overige</td>\n",
       "    </tr>\n",
       "    <tr>\n",
       "      <th>1</th>\n",
       "      <td>16</td>\n",
       "      <td>Defensie</td>\n",
       "    </tr>\n",
       "    <tr>\n",
       "      <th>2</th>\n",
       "      <td>16</td>\n",
       "      <td>Defensie</td>\n",
       "    </tr>\n",
       "    <tr>\n",
       "      <th>3</th>\n",
       "      <td>5</td>\n",
       "      <td>Arbeid</td>\n",
       "    </tr>\n",
       "    <tr>\n",
       "      <th>4</th>\n",
       "      <td>3</td>\n",
       "      <td>Gezondheid</td>\n",
       "    </tr>\n",
       "  </tbody>\n",
       "</table>\n",
       "</div>"
      ],
      "text/plain": [
       "  main_topic main_topic_label\n",
       "0         99          Overige\n",
       "1         16         Defensie\n",
       "2         16         Defensie\n",
       "3          5           Arbeid\n",
       "4          3       Gezondheid"
      ]
     },
     "execution_count": 274,
     "metadata": {},
     "output_type": "execute_result"
    }
   ],
   "source": [
    "def label_topic(row):\n",
    "    if row['main_topic'] == '99':\n",
    "        return 'Overige'\n",
    "    if row['main_topic'] == '1':\n",
    "        return 'Macro-economie en belastingen'\n",
    "    if row['main_topic'] == '2':\n",
    "        return 'Burgerrechten en vrijheden'\n",
    "    if row['main_topic'] == '3':\n",
    "        return 'Gezondheid'\n",
    "    if row['main_topic'] == '4':\n",
    "        return 'Landbouw en Visserij'\n",
    "    if row['main_topic'] == '5':\n",
    "        return 'Arbeid'\n",
    "    if row['main_topic'] == '6':\n",
    "        return 'Onderwijs'\n",
    "    if row['main_topic'] == '7':\n",
    "        return 'Milieu'\n",
    "    if row['main_topic'] == '8':\n",
    "        return 'Energiebeleid'\n",
    "    if row['main_topic'] == '9':\n",
    "        return 'Immigratie en integratie'\n",
    "    if row['main_topic'] == '10':\n",
    "        return 'Verkeer en vervoer'\n",
    "    if row['main_topic'] == '11':\n",
    "        return 'Unkown'\n",
    "    if row['main_topic'] == '12':\n",
    "        return 'Justitie, Rechtspraak, Criminaliteit'\n",
    "    if row['main_topic'] == '13':\n",
    "        return 'sociale Zaken'\n",
    "    if row['main_topic'] == '14':\n",
    "        return 'Gemeenschapsontwikkeling, huisvestingsbeleid en stedelijke planning'\n",
    "    if row['main_topic'] == '15':\n",
    "        return 'Ondernemingen, Bankwezen en binnenlandse handel '\n",
    "    if row['main_topic'] == '16':\n",
    "        return 'Defensie'\n",
    "    if row['main_topic'] == '17':\n",
    "        return 'Wetenschappelijk onderzoek, technologie en communicatie'\n",
    "    if row['main_topic'] == '18':\n",
    "        return 'Buitenlandse handel'\n",
    "    if row['main_topic'] == '19':\n",
    "        return 'Buitenlandse zaken en ontwikkelingssamenwerking'\n",
    "    if row['main_topic'] == '20':\n",
    "        return 'Functioneren democratie en openbaar bestuur'\n",
    "    if row['main_topic'] == '21':\n",
    "        return 'Ruimtelijke ordening, publiek natuur- en waterbeheer'\n",
    "    if row['main_topic'] == '22':\n",
    "        return 'Unkown 2'\n",
    "    if row['main_topic'] == '23':\n",
    "        return 'Kunst, cultuur en entertainment'\n",
    "    if row['main_topic'] == '00':\n",
    "        return 'Toegevoegde codes voor media'\n",
    "    \n",
    "#df.apply(lambda row: label_topic(row),axis=1)\n",
    "df['main_topic_label'] = df.apply (lambda row: label_topic (row),axis=1)\n",
    "df[['main_topic','main_topic_label']][0:5]"
   ]
  },
  {
   "cell_type": "code",
   "execution_count": 275,
   "metadata": {},
   "outputs": [
    {
     "data": {
      "text/html": [
       "<div>\n",
       "<style scoped>\n",
       "    .dataframe tbody tr th:only-of-type {\n",
       "        vertical-align: middle;\n",
       "    }\n",
       "\n",
       "    .dataframe tbody tr th {\n",
       "        vertical-align: top;\n",
       "    }\n",
       "\n",
       "    .dataframe thead th {\n",
       "        text-align: right;\n",
       "    }\n",
       "</style>\n",
       "<table border=\"1\" class=\"dataframe\">\n",
       "  <thead>\n",
       "    <tr style=\"text-align: right;\">\n",
       "      <th></th>\n",
       "      <th></th>\n",
       "      <th>n</th>\n",
       "    </tr>\n",
       "    <tr>\n",
       "      <th>main_topic</th>\n",
       "      <th>main_topic_label</th>\n",
       "      <th></th>\n",
       "    </tr>\n",
       "  </thead>\n",
       "  <tbody>\n",
       "    <tr>\n",
       "      <th>1</th>\n",
       "      <th>Macro-economie en belastingen</th>\n",
       "      <td>413</td>\n",
       "    </tr>\n",
       "    <tr>\n",
       "      <th>10</th>\n",
       "      <th>Verkeer en vervoer</th>\n",
       "      <td>371</td>\n",
       "    </tr>\n",
       "    <tr>\n",
       "      <th>12</th>\n",
       "      <th>Justitie, Rechtspraak, Criminaliteit</th>\n",
       "      <td>1201</td>\n",
       "    </tr>\n",
       "    <tr>\n",
       "      <th>13</th>\n",
       "      <th>sociale Zaken</th>\n",
       "      <td>115</td>\n",
       "    </tr>\n",
       "    <tr>\n",
       "      <th>14</th>\n",
       "      <th>Gemeenschapsontwikkeling, huisvestingsbeleid en stedelijke planning</th>\n",
       "      <td>114</td>\n",
       "    </tr>\n",
       "    <tr>\n",
       "      <th>15</th>\n",
       "      <th>Ondernemingen, Bankwezen en binnenlandse handel</th>\n",
       "      <td>556</td>\n",
       "    </tr>\n",
       "    <tr>\n",
       "      <th>16</th>\n",
       "      <th>Defensie</th>\n",
       "      <td>394</td>\n",
       "    </tr>\n",
       "    <tr>\n",
       "      <th>17</th>\n",
       "      <th>Wetenschappelijk onderzoek, technologie en communicatie</th>\n",
       "      <td>427</td>\n",
       "    </tr>\n",
       "    <tr>\n",
       "      <th>19</th>\n",
       "      <th>Buitenlandse zaken en ontwikkelingssamenwerking</th>\n",
       "      <td>1109</td>\n",
       "    </tr>\n",
       "    <tr>\n",
       "      <th>2</th>\n",
       "      <th>Burgerrechten en vrijheden</th>\n",
       "      <td>327</td>\n",
       "    </tr>\n",
       "    <tr>\n",
       "      <th>20</th>\n",
       "      <th>Functioneren democratie en openbaar bestuur</th>\n",
       "      <td>1303</td>\n",
       "    </tr>\n",
       "    <tr>\n",
       "      <th>3</th>\n",
       "      <th>Gezondheid</th>\n",
       "      <td>445</td>\n",
       "    </tr>\n",
       "    <tr>\n",
       "      <th>4</th>\n",
       "      <th>Landbouw en Visserij</th>\n",
       "      <td>114</td>\n",
       "    </tr>\n",
       "    <tr>\n",
       "      <th>5</th>\n",
       "      <th>Arbeid</th>\n",
       "      <td>217</td>\n",
       "    </tr>\n",
       "    <tr>\n",
       "      <th>6</th>\n",
       "      <th>Onderwijs</th>\n",
       "      <td>188</td>\n",
       "    </tr>\n",
       "    <tr>\n",
       "      <th>7</th>\n",
       "      <th>Milieu</th>\n",
       "      <td>154</td>\n",
       "    </tr>\n",
       "    <tr>\n",
       "      <th>8</th>\n",
       "      <th>Energiebeleid</th>\n",
       "      <td>81</td>\n",
       "    </tr>\n",
       "    <tr>\n",
       "      <th>9</th>\n",
       "      <th>Immigratie en integratie</th>\n",
       "      <td>151</td>\n",
       "    </tr>\n",
       "    <tr>\n",
       "      <th>99</th>\n",
       "      <th>Overige</th>\n",
       "      <td>4879</td>\n",
       "    </tr>\n",
       "  </tbody>\n",
       "</table>\n",
       "</div>"
      ],
      "text/plain": [
       "                                                                  n\n",
       "main_topic main_topic_label                                        \n",
       "1          Macro-economie en belastingen                        413\n",
       "10         Verkeer en vervoer                                   371\n",
       "12         Justitie, Rechtspraak, Criminaliteit                1201\n",
       "13         sociale Zaken                                        115\n",
       "14         Gemeenschapsontwikkeling, huisvestingsbeleid en...   114\n",
       "15         Ondernemingen, Bankwezen en binnenlandse handel      556\n",
       "16         Defensie                                             394\n",
       "17         Wetenschappelijk onderzoek, technologie en comm...   427\n",
       "19         Buitenlandse zaken en ontwikkelingssamenwerking     1109\n",
       "2          Burgerrechten en vrijheden                           327\n",
       "20         Functioneren democratie en openbaar bestuur         1303\n",
       "3          Gezondheid                                           445\n",
       "4          Landbouw en Visserij                                 114\n",
       "5          Arbeid                                               217\n",
       "6          Onderwijs                                            188\n",
       "7          Milieu                                               154\n",
       "8          Energiebeleid                                         81\n",
       "9          Immigratie en integratie                             151\n",
       "99         Overige                                             4879"
      ]
     },
     "execution_count": 275,
     "metadata": {},
     "output_type": "execute_result"
    }
   ],
   "source": [
    "df['main_topic'] = df['main_topic'].astype(str)\n",
    "df['n'] = 1\n",
    "\n",
    "# number of observations per topic:\n",
    "agg = df.groupby(['main_topic', 'main_topic_label']).agg({'n': sum})\n",
    "agg.sort_index()"
   ]
  },
  {
   "cell_type": "code",
   "execution_count": 280,
   "metadata": {},
   "outputs": [
    {
     "data": {
      "text/plain": [
       "12559"
      ]
     },
     "execution_count": 280,
     "metadata": {},
     "output_type": "execute_result"
    }
   ],
   "source": [
    "df['preprocessed_text'] = df.Processed_text.apply(', '.join)\n",
    "len(df)"
   ]
  },
  {
   "cell_type": "code",
   "execution_count": 285,
   "metadata": {},
   "outputs": [
    {
     "data": {
      "text/plain": [
       "'data_Wejgijge.pkl'"
      ]
     },
     "execution_count": 285,
     "metadata": {},
     "output_type": "execute_result"
    }
   ],
   "source": [
    "\"data/data_Wejgijge.pkl\".split('/')[-1]"
   ]
  },
  {
   "cell_type": "code",
   "execution_count": 286,
   "metadata": {},
   "outputs": [
    {
     "data": {
      "text/plain": [
       "3486"
      ]
     },
     "execution_count": 286,
     "metadata": {},
     "output_type": "execute_result"
    }
   ],
   "source": [
    "# length of the datafile of Vermeer\n",
    "\n",
    "len(pd.read_pickle('/home/anne/tmpanne/AEM_data/dataset_vermeer.pkl'))"
   ]
  },
  {
   "cell_type": "code",
   "execution_count": 265,
   "metadata": {},
   "outputs": [],
   "source": [
    "from sklearn.linear_model import PassiveAggressiveClassifier\n",
    "from sklearn.model_selection import train_test_split\n",
    "from sklearn.pipeline import Pipeline\n",
    "from sklearn.feature_extraction.text import CountVectorizer, TfidfVectorizer\n",
    "from sklearn.linear_model import SGDClassifier\n",
    "\n",
    "X_train, X_test, y_train, y_test = train_test_split(df['Joined'], df['main_topic'], test_size=0.2, random_state=42)\n",
    "\n",
    "pa = Pipeline([\n",
    "    ('tfidf', TfidfVectorizer()),\n",
    "    ('clf', SGDClassifier(loss='hinge', penalty='elasticnet', tol=1e-4, alpha=1e-6, max_iter=5000, random_state=42))\n",
    "                            ])\n",
    "\n",
    "pa.fit(X_train, y_train)\n",
    "preds = pa.predict(X_test)"
   ]
  },
  {
   "cell_type": "code",
   "execution_count": null,
   "metadata": {},
   "outputs": [],
   "source": [
    "print(classification_report(y_test, preds))"
   ]
  },
  {
   "cell_type": "code",
   "execution_count": 266,
   "metadata": {},
   "outputs": [
    {
     "name": "stdout",
     "output_type": "stream",
     "text": [
      "             precision    recall  f1-score   support\n",
      "\n",
      "          1       0.61      0.33      0.43        90\n",
      "         10       0.57      0.67      0.62        86\n",
      "         12       0.62      0.66      0.64       248\n",
      "         13       0.67      0.10      0.17        21\n",
      "         14       0.70      0.28      0.40        25\n",
      "         15       0.54      0.66      0.60        92\n",
      "         16       0.54      0.40      0.46        81\n",
      "         17       0.49      0.44      0.47        81\n",
      "         19       0.56      0.70      0.62       242\n",
      "          2       0.27      0.08      0.13        71\n",
      "         20       0.55      0.64      0.59       251\n",
      "          3       0.54      0.65      0.59        79\n",
      "          4       0.55      0.81      0.65        21\n",
      "          5       0.30      0.35      0.32        34\n",
      "          6       0.74      0.76      0.75        37\n",
      "          7       0.45      0.13      0.20        39\n",
      "          8       0.64      0.50      0.56        14\n",
      "          9       0.68      0.66      0.67        32\n",
      "         99       0.80      0.79      0.79       968\n",
      "\n",
      "avg / total       0.65      0.65      0.64      2512\n",
      "\n",
      "Precision : 0.6473170211554333\n",
      "Recall    : 0.6508757961783439\n",
      "F-score   : 0.6396840566229829\n",
      "Support   : None\n"
     ]
    }
   ],
   "source": [
    "from sklearn.metrics import classification_report \n",
    "print(classification_report(y_test, preds))\n",
    "\n",
    "from sklearn.metrics import precision_recall_fscore_support as score\n",
    "\n",
    "precision,recall,fscore,support=score(y_test, preds, average='weighted')\n",
    "print ('Precision : {}'.format(precision))\n",
    "print ('Recall    : {}'.format(recall))\n",
    "print( 'F-score   : {}'.format(fscore))\n",
    "print( 'Support   : {}'.format(support))"
   ]
  }
 ],
 "metadata": {
  "kernelspec": {
   "display_name": "Python 3",
   "language": "python",
   "name": "python3"
  },
  "language_info": {
   "codemirror_mode": {
    "name": "ipython",
    "version": 3
   },
   "file_extension": ".py",
   "mimetype": "text/x-python",
   "name": "python",
   "nbconvert_exporter": "python",
   "pygments_lexer": "ipython3",
   "version": "3.5.2"
  }
 },
 "nbformat": 4,
 "nbformat_minor": 2
}
